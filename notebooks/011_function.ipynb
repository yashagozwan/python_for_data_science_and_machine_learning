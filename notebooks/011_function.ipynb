{
 "cells": [
  {
   "cell_type": "markdown",
   "id": "e7749108",
   "metadata": {},
   "source": [
    "# Function"
   ]
  },
  {
   "cell_type": "code",
   "execution_count": 2,
   "id": "ca8b0487",
   "metadata": {},
   "outputs": [],
   "source": [
    "def my_func(param):\n",
    "    print(param)"
   ]
  },
  {
   "cell_type": "code",
   "execution_count": 4,
   "id": "03dcefe7",
   "metadata": {},
   "outputs": [
    {
     "name": "stdout",
     "output_type": "stream",
     "text": [
      "Hello\n"
     ]
    }
   ],
   "source": [
    "my_func(\"Hello\")"
   ]
  },
  {
   "cell_type": "code",
   "execution_count": 6,
   "id": "be8c1bac",
   "metadata": {},
   "outputs": [],
   "source": [
    "def my_func_default_value(name='Unknown'):\n",
    "    print(name)"
   ]
  },
  {
   "cell_type": "code",
   "execution_count": 8,
   "id": "ca6b9e8d",
   "metadata": {},
   "outputs": [
    {
     "name": "stdout",
     "output_type": "stream",
     "text": [
      "Unknown\n"
     ]
    }
   ],
   "source": [
    "my_func_default_value()"
   ]
  },
  {
   "cell_type": "code",
   "execution_count": 10,
   "id": "1b4f8989",
   "metadata": {},
   "outputs": [
    {
     "name": "stdout",
     "output_type": "stream",
     "text": [
      "Guna\n"
     ]
    }
   ],
   "source": [
    "my_func_default_value(\"Guna\")"
   ]
  },
  {
   "cell_type": "code",
   "execution_count": 12,
   "id": "5f28970a",
   "metadata": {},
   "outputs": [
    {
     "data": {
      "text/plain": [
       "<function __main__.my_func_default_value(name='Unknown')>"
      ]
     },
     "execution_count": 12,
     "metadata": {},
     "output_type": "execute_result"
    }
   ],
   "source": [
    "my_func_default_value"
   ]
  },
  {
   "cell_type": "code",
   "execution_count": null,
   "id": "28ea376a",
   "metadata": {},
   "outputs": [],
   "source": [
    "def square(x):\n",
    "    \"\"\"\n",
    "    This function return square number.\n",
    "    \"\"\"\n",
    "    return x**2"
   ]
  },
  {
   "cell_type": "code",
   "execution_count": 16,
   "id": "a5497c9e",
   "metadata": {},
   "outputs": [],
   "source": [
    "output = square(10)"
   ]
  },
  {
   "cell_type": "code",
   "execution_count": 18,
   "id": "526e77d0",
   "metadata": {},
   "outputs": [
    {
     "data": {
      "text/plain": [
       "100"
      ]
     },
     "execution_count": 18,
     "metadata": {},
     "output_type": "execute_result"
    }
   ],
   "source": [
    "output"
   ]
  },
  {
   "cell_type": "code",
   "execution_count": 19,
   "id": "ee42d57f",
   "metadata": {},
   "outputs": [
    {
     "data": {
      "text/plain": [
       "<function __main__.square(x)>"
      ]
     },
     "execution_count": 19,
     "metadata": {},
     "output_type": "execute_result"
    }
   ],
   "source": [
    "square"
   ]
  },
  {
   "cell_type": "code",
   "execution_count": null,
   "id": "dc55c94a",
   "metadata": {},
   "outputs": [],
   "source": [
    "range"
   ]
  }
 ],
 "metadata": {
  "kernelspec": {
   "display_name": ".venv (3.9.13)",
   "language": "python",
   "name": "python3"
  },
  "language_info": {
   "codemirror_mode": {
    "name": "ipython",
    "version": 3
   },
   "file_extension": ".py",
   "mimetype": "text/x-python",
   "name": "python",
   "nbconvert_exporter": "python",
   "pygments_lexer": "ipython3",
   "version": "3.9.13"
  }
 },
 "nbformat": 4,
 "nbformat_minor": 5
}
