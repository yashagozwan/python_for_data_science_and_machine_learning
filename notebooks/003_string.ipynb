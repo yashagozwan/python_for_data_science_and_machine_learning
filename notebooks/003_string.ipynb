{
 "cells": [
  {
   "cell_type": "markdown",
   "id": "67b26b9c",
   "metadata": {},
   "source": [
    "# String"
   ]
  },
  {
   "cell_type": "markdown",
   "id": "06fc6fbf",
   "metadata": {},
   "source": [
    "## String Format with variable parameter name"
   ]
  },
  {
   "cell_type": "code",
   "execution_count": 4,
   "id": "eb766793",
   "metadata": {},
   "outputs": [
    {
     "data": {
      "text/plain": [
       "'Hi, my name is John Doe and my age 29'"
      ]
     },
     "execution_count": 4,
     "metadata": {},
     "output_type": "execute_result"
    }
   ],
   "source": [
    "greetings = \"Hi, my name is {name} and my age {age}\".format(name=\"John Doe\", age=29)\n",
    "greetings"
   ]
  },
  {
   "cell_type": "markdown",
   "id": "5a00c1e6",
   "metadata": {},
   "source": [
    "## Slice String"
   ]
  },
  {
   "cell_type": "code",
   "execution_count": null,
   "id": "743ba60b",
   "metadata": {},
   "outputs": [
    {
     "data": {
      "text/plain": [
       "'avaScript'"
      ]
     },
     "execution_count": 11,
     "metadata": {},
     "output_type": "execute_result"
    }
   ],
   "source": [
    "name = \"JavaScript\"\n",
    "name[0] # J\n",
    "name[:3] # Jav\n",
    "name[3:] # aScript\n",
    "name[1:] # avaScript"
   ]
  }
 ],
 "metadata": {
  "kernelspec": {
   "display_name": ".venv (3.9.13)",
   "language": "python",
   "name": "python3"
  },
  "language_info": {
   "codemirror_mode": {
    "name": "ipython",
    "version": 3
   },
   "file_extension": ".py",
   "mimetype": "text/x-python",
   "name": "python",
   "nbconvert_exporter": "python",
   "pygments_lexer": "ipython3",
   "version": "3.9.13"
  }
 },
 "nbformat": 4,
 "nbformat_minor": 5
}
