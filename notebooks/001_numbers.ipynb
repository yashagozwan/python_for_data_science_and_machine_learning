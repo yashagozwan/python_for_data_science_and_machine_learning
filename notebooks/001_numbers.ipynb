{
 "cells": [
  {
   "cell_type": "markdown",
   "id": "10c7f865",
   "metadata": {},
   "source": [
    "# Numbers"
   ]
  }
 ],
 "metadata": {
  "language_info": {
   "name": "python"
  }
 },
 "nbformat": 4,
 "nbformat_minor": 5
}
