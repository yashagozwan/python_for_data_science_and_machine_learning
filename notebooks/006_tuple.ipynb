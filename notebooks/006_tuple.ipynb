{
 "cells": [
  {
   "cell_type": "markdown",
   "id": "201b815e",
   "metadata": {},
   "source": [
    "# Tuple\n",
    "\n",
    "## In action"
   ]
  },
  {
   "cell_type": "code",
   "execution_count": 1,
   "id": "bc402491",
   "metadata": {},
   "outputs": [],
   "source": [
    "tuple = (1,2,3)"
   ]
  }
 ],
 "metadata": {
  "kernelspec": {
   "display_name": ".venv (3.9.13)",
   "language": "python",
   "name": "python3"
  },
  "language_info": {
   "codemirror_mode": {
    "name": "ipython",
    "version": 3
   },
   "file_extension": ".py",
   "mimetype": "text/x-python",
   "name": "python",
   "nbconvert_exporter": "python",
   "pygments_lexer": "ipython3",
   "version": "3.9.13"
  }
 },
 "nbformat": 4,
 "nbformat_minor": 5
}
