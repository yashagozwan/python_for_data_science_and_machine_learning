{
 "cells": [
  {
   "cell_type": "markdown",
   "id": "961b6f6d",
   "metadata": {},
   "source": [
    "# Dictionary"
   ]
  },
  {
   "cell_type": "markdown",
   "id": "41f46faf",
   "metadata": {},
   "source": [
    "## Dict in action"
   ]
  },
  {
   "cell_type": "code",
   "execution_count": 2,
   "id": "c9421845",
   "metadata": {},
   "outputs": [],
   "source": [
    "person = {\n",
    "    'name': 'john doe',\n",
    "    'age': 28,\n",
    "    'address': {\n",
    "        'district': 'Kalibaru',\n",
    "        'city': 'Depok'\n",
    "    }\n",
    "}"
   ]
  },
  {
   "cell_type": "code",
   "execution_count": 3,
   "id": "05fe60a6",
   "metadata": {},
   "outputs": [
    {
     "data": {
      "text/plain": [
       "{'name': 'john doe',\n",
       " 'age': 28,\n",
       " 'address': {'district': 'Kalibaru', 'city': 'Depok'}}"
      ]
     },
     "execution_count": 3,
     "metadata": {},
     "output_type": "execute_result"
    }
   ],
   "source": [
    "person"
   ]
  }
 ],
 "metadata": {
  "kernelspec": {
   "display_name": ".venv (3.9.13)",
   "language": "python",
   "name": "python3"
  },
  "language_info": {
   "codemirror_mode": {
    "name": "ipython",
    "version": 3
   },
   "file_extension": ".py",
   "mimetype": "text/x-python",
   "name": "python",
   "nbconvert_exporter": "python",
   "pygments_lexer": "ipython3",
   "version": "3.9.13"
  }
 },
 "nbformat": 4,
 "nbformat_minor": 5
}
