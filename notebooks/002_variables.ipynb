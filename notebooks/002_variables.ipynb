{
 "cells": [
  {
   "cell_type": "markdown",
   "id": "64340422",
   "metadata": {},
   "source": [
    "# Variables"
   ]
  },
  {
   "cell_type": "markdown",
   "id": "087a4cf1",
   "metadata": {},
   "source": [
    "## Variable assignment"
   ]
  },
  {
   "cell_type": "code",
   "execution_count": 4,
   "id": "980d1cf0",
   "metadata": {},
   "outputs": [],
   "source": [
    "name = \"Jonas\"\n",
    "age = 28\n",
    "email = \"jonas@live.com\"\n",
    "is_married = False"
   ]
  }
 ],
 "metadata": {
  "kernelspec": {
   "display_name": ".venv (3.9.13)",
   "language": "python",
   "name": "python3"
  },
  "language_info": {
   "codemirror_mode": {
    "name": "ipython",
    "version": 3
   },
   "file_extension": ".py",
   "mimetype": "text/x-python",
   "name": "python",
   "nbconvert_exporter": "python",
   "pygments_lexer": "ipython3",
   "version": "3.9.13"
  }
 },
 "nbformat": 4,
 "nbformat_minor": 5
}
